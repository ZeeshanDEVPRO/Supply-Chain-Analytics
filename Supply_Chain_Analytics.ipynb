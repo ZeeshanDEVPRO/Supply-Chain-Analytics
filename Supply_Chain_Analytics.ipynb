{
  "nbformat": 4,
  "nbformat_minor": 0,
  "metadata": {
    "colab": {
      "provenance": []
    },
    "kernelspec": {
      "name": "python3",
      "display_name": "Python 3"
    },
    "language_info": {
      "name": "python"
    }
  },
  "cells": [
    {
      "cell_type": "code",
      "execution_count": null,
      "metadata": {
        "colab": {
          "base_uri": "https://localhost:8080/"
        },
        "collapsed": true,
        "id": "jwU63xW8nZdB",
        "outputId": "f1524955-96dc-4346-9e4b-ec70d5b18438"
      },
      "outputs": [
        {
          "output_type": "stream",
          "name": "stdout",
          "text": [
            "Requirement already satisfied: numpy in /usr/local/lib/python3.11/dist-packages (2.0.2)\n",
            "Requirement already satisfied: pandas in /usr/local/lib/python3.11/dist-packages (2.2.2)\n",
            "Requirement already satisfied: matplotlib in /usr/local/lib/python3.11/dist-packages (3.10.0)\n",
            "Requirement already satisfied: seaborn in /usr/local/lib/python3.11/dist-packages (0.13.2)\n",
            "Requirement already satisfied: python-dateutil>=2.8.2 in /usr/local/lib/python3.11/dist-packages (from pandas) (2.9.0.post0)\n",
            "Requirement already satisfied: pytz>=2020.1 in /usr/local/lib/python3.11/dist-packages (from pandas) (2025.2)\n",
            "Requirement already satisfied: tzdata>=2022.7 in /usr/local/lib/python3.11/dist-packages (from pandas) (2025.2)\n",
            "Requirement already satisfied: contourpy>=1.0.1 in /usr/local/lib/python3.11/dist-packages (from matplotlib) (1.3.2)\n",
            "Requirement already satisfied: cycler>=0.10 in /usr/local/lib/python3.11/dist-packages (from matplotlib) (0.12.1)\n",
            "Requirement already satisfied: fonttools>=4.22.0 in /usr/local/lib/python3.11/dist-packages (from matplotlib) (4.57.0)\n",
            "Requirement already satisfied: kiwisolver>=1.3.1 in /usr/local/lib/python3.11/dist-packages (from matplotlib) (1.4.8)\n",
            "Requirement already satisfied: packaging>=20.0 in /usr/local/lib/python3.11/dist-packages (from matplotlib) (24.2)\n",
            "Requirement already satisfied: pillow>=8 in /usr/local/lib/python3.11/dist-packages (from matplotlib) (11.2.1)\n",
            "Requirement already satisfied: pyparsing>=2.3.1 in /usr/local/lib/python3.11/dist-packages (from matplotlib) (3.2.3)\n",
            "Requirement already satisfied: six>=1.5 in /usr/local/lib/python3.11/dist-packages (from python-dateutil>=2.8.2->pandas) (1.17.0)\n"
          ]
        }
      ],
      "source": [
        "!pip install numpy pandas matplotlib seaborn\n",
        "import pandas as pd\n",
        "import numpy as np\n",
        "import matplotlib.pyplot as plt\n",
        "import seaborn as sns\n"
      ]
    },
    {
      "cell_type": "markdown",
      "source": [
        "LOAD DATASET"
      ],
      "metadata": {
        "id": "zMxoT8_GbOBF"
      }
    },
    {
      "cell_type": "code",
      "source": [
        "\n",
        "customers = pd.read_csv('df_Customers.csv')\n",
        "orderItems = pd.read_csv('df_OrderItems.csv')\n",
        "orders = pd.read_csv('df_Orders.csv')\n",
        "payments = pd.read_csv('df_Payments.csv')\n",
        "products = pd.read_csv('df_Products.csv')"
      ],
      "metadata": {
        "id": "Zgo8CZJ0n238"
      },
      "execution_count": null,
      "outputs": []
    },
    {
      "cell_type": "markdown",
      "source": [
        "DATA CLEANING AND TRANSFORMATION"
      ],
      "metadata": {
        "id": "H01mQkHZbRRP"
      }
    },
    {
      "cell_type": "code",
      "source": [
        "\n",
        "orders.head(6)\n",
        "\n",
        "# removing empty columns\n",
        "def check_empty_values(tables: dict):\n",
        "    for name, df in tables.items():\n",
        "        print(f\"\\nChecking table: {name}\")\n",
        "        null_counts = df.isnull().sum()\n",
        "        empty_cols = null_counts[null_counts > 0]\n",
        "\n",
        "        if not empty_cols.empty:\n",
        "            print(\"Columns with empty values:\")\n",
        "            print(empty_cols)\n",
        "        else:\n",
        "            print(\"No empty values found in any column.\")\n",
        "\n",
        "# Dictionary of all tables\n",
        "tables = {\n",
        "    'Customers': customers,\n",
        "    'OrderItems': orderItems,\n",
        "    'Orders': orders,\n",
        "    'Payments': payments,\n",
        "    'Products': products\n",
        "}\n",
        "\n",
        "# Run the function\n",
        "check_empty_values(tables)"
      ],
      "metadata": {
        "colab": {
          "base_uri": "https://localhost:8080/"
        },
        "id": "yOz8iQrjp7mr",
        "outputId": "633554d9-61d6-450d-d10d-5a03541e6ef9",
        "collapsed": true
      },
      "execution_count": null,
      "outputs": [
        {
          "output_type": "stream",
          "name": "stdout",
          "text": [
            "\n",
            "Checking table: Customers\n",
            "No empty values found in any column.\n",
            "\n",
            "Checking table: OrderItems\n",
            "No empty values found in any column.\n",
            "\n",
            "Checking table: Orders\n",
            "Columns with empty values:\n",
            "order_approved_at               9\n",
            "order_delivered_timestamp    1889\n",
            "dtype: int64\n",
            "\n",
            "Checking table: Payments\n",
            "No empty values found in any column.\n",
            "\n",
            "Checking table: Products\n",
            "Columns with empty values:\n",
            "product_category_name    308\n",
            "product_weight_g          15\n",
            "product_length_cm         15\n",
            "product_height_cm         15\n",
            "product_width_cm          15\n",
            "dtype: int64\n"
          ]
        }
      ]
    },
    {
      "cell_type": "code",
      "source": [
        "# dropping empty rows\n",
        "orders = orders.dropna(subset=['order_approved_at', 'order_delivered_timestamp'])\n",
        "products = products.dropna(subset=[\n",
        "    'product_category_name',\n",
        "    'product_weight_g',\n",
        "    'product_length_cm',\n",
        "    'product_height_cm',\n",
        "    'product_width_cm'\n",
        "])"
      ],
      "metadata": {
        "id": "J6MsMIUAOoG6"
      },
      "execution_count": null,
      "outputs": []
    },
    {
      "cell_type": "code",
      "source": [
        "# label encoding\n",
        "from sklearn.preprocessing import LabelEncoder\n",
        "\n",
        "label_encoder = LabelEncoder()\n",
        "\n",
        "orders.loc[:, 'order_status'] = label_encoder.fit_transform(orders['order_status'])\n",
        "customers.loc[:, 'customer_state'] = label_encoder.fit_transform(customers['customer_state'])\n",
        "payments.loc[:, 'payment_type'] = label_encoder.fit_transform(payments['payment_type'])\n",
        "products.loc[:, 'product_category_name'] = label_encoder.fit_transform(products['product_category_name'])\n"
      ],
      "metadata": {
        "id": "fI9N0HjRS5m3"
      },
      "execution_count": null,
      "outputs": []
    },
    {
      "cell_type": "markdown",
      "source": [
        "**PREDICTIVE MODELLING**\n"
      ],
      "metadata": {
        "id": "fWeTg-yVbbyw"
      }
    },
    {
      "cell_type": "markdown",
      "source": [
        "\n",
        "\n",
        "1.   Delivery Time Prediction\n",
        "\n",
        "\n"
      ],
      "metadata": {
        "id": "53CaaRtpboJ3"
      }
    },
    {
      "cell_type": "code",
      "source": [
        "# Target: (order_delivered_timestamp - order_purchase_timestamp)\n",
        "# Features: product_weight_g, shipping_charges, state, order_status\n",
        "\n",
        "# Merging and joining tables\n",
        "df = orders.merge(orderItems, on='order_id')\n",
        "df = df.merge(products, on='product_id')\n",
        "df = df.merge(customers, on='customer_id')\n",
        "\n",
        "# Create the target variable: delivery_days\n",
        "df['order_delivered_timestamp'] = pd.to_datetime(df['order_delivered_timestamp'])\n",
        "df['order_purchase_timestamp'] = pd.to_datetime(df['order_purchase_timestamp'])\n",
        "df['delivery_days'] = (df['order_delivered_timestamp'] - df['order_purchase_timestamp']).dt.days\n",
        "\n",
        "# Filter out invalid or negative delivery times\n",
        "df = df[df['delivery_days'] >= 0]\n",
        "\n",
        "# Remove rows with NaNs (if any were introduced in timestamp conversion)\n",
        "df = df.dropna(subset=['delivery_days'])\n",
        "\n",
        "# Check correlations with numeric columns only\n",
        "numeric_df = df[['product_weight_g', 'shipping_charges', 'delivery_days']].dropna()\n",
        "sns.heatmap(numeric_df.corr(), annot=True, cmap='coolwarm')\n",
        "plt.title(\"Correlation Heatmap\")\n",
        "plt.show()"
      ],
      "metadata": {
        "id": "_-1WUHhecCuM",
        "colab": {
          "base_uri": "https://localhost:8080/",
          "height": 452
        },
        "outputId": "692d41bc-edba-49cb-998f-8d27ec333f02"
      },
      "execution_count": null,
      "outputs": [
        {
          "output_type": "display_data",
          "data": {
            "text/plain": [
              "<Figure size 640x480 with 2 Axes>"
            ],
            "image/png": "[encoded data removed]"
          },
          "metadata": {}
        }
      ]
    },
    {
      "cell_type": "code",
      "source": [
        "# modelling\n",
        "\n",
        "features = [\n",
        "    'shipping_charges',\n",
        "    'price',\n",
        "    'product_weight_g',\n",
        "    'product_length_cm',\n",
        "    'product_height_cm',\n",
        "    'product_width_cm'\n",
        "]\n",
        "\n",
        "# Drop rows with any missing numerical values\n",
        "df_model = df[features + ['delivery_days']].dropna()\n",
        "\n",
        "# if including categorical columns like state or category later\n",
        "# df_model = pd.get_dummies(df_model, columns=['customer_state', 'product_category_name'], drop_first=True)\n",
        "\n",
        "from sklearn.model_selection import train_test_split\n",
        "\n",
        "X = df_model[features]\n",
        "y = df_model['delivery_days']\n",
        "\n",
        "X_train, X_test, y_train, y_test = train_test_split(X, y, test_size=0.25, random_state=42)\n"
      ],
      "metadata": {
        "id": "1x85v3OLTJwu"
      },
      "execution_count": null,
      "outputs": []
    },
    {
      "cell_type": "code",
      "source": [
        "from sklearn.ensemble import RandomForestRegressor\n",
        "from sklearn.metrics import mean_absolute_error, r2_score\n",
        "\n",
        "model = RandomForestRegressor(n_estimators=100, random_state=42)\n",
        "model.fit(X_train, y_train)\n",
        "\n",
        "y_pred = model.predict(X_test)\n",
        "\n",
        "print(\"MAE:\", mean_absolute_error(y_test, y_pred))\n",
        "print(\"R2 Score:\", r2_score(y_test, y_pred))\n"
      ],
      "metadata": {
        "colab": {
          "base_uri": "https://localhost:8080/"
        },
        "id": "wPnZWUT7UIyO",
        "outputId": "2355eb40-ca20-4c64-f0dc-330f4e1373e7"
      },
      "execution_count": null,
      "outputs": [
        {
          "output_type": "stream",
          "name": "stdout",
          "text": [
            "MAE: 2.985220320552236\n",
            "R2 Score: 0.6301940582899427\n"
          ]
        }
      ]
    },
    {
      "cell_type": "code",
      "source": [
        "import matplotlib.pyplot as plt\n",
        "\n",
        "importances = model.feature_importances_\n",
        "plt.barh(features, importances)\n",
        "plt.xlabel(\"Feature Importance\")\n",
        "plt.title(\"Random Forest - Feature Importances\")\n",
        "plt.show()\n"
      ],
      "metadata": {
        "colab": {
          "base_uri": "https://localhost:8080/",
          "height": 472
        },
        "id": "9t7CYQOFUMWR",
        "outputId": "850b2757-06ac-49d5-dcfc-a7b867070cae"
      },
      "execution_count": null,
      "outputs": [
        {
          "output_type": "display_data",
          "data": {
            "text/plain": [
              "<Figure size 640x480 with 1 Axes>"
            ],
            "image/png": "[encoded data removed]"
          },
          "metadata": {}
        }
      ]
    },
    {
      "cell_type": "code",
      "source": [
        "# export csv for powerBI\n",
        "# OPTIONAL: Add order_id and customer_id for reference (if available in your df_model)\n",
        "export_df = df.loc[X_test.index, ['order_id', 'customer_id'] + features].copy()\n",
        "\n",
        "# Add actual & predicted delivery days\n",
        "export_df['Actual_Delivery_Days'] = y_test\n",
        "export_df['Predicted_Delivery_Days'] = y_pred\n",
        "\n",
        "# Save to CSV\n",
        "export_df.to_csv('delivery_time_predictions.csv', index=False)\n",
        "\n",
        "print(\"Exported delivery_time_predictions.csv successfully ✅\")\n"
      ],
      "metadata": {
        "colab": {
          "base_uri": "https://localhost:8080/"
        },
        "id": "e_OU5Cj49oH_",
        "outputId": "15f249a4-a86b-41aa-cbc4-c062d75a6221"
      },
      "execution_count": null,
      "outputs": [
        {
          "output_type": "stream",
          "name": "stdout",
          "text": [
            "Exported delivery_time_predictions.csv successfully ✅\n"
          ]
        }
      ]
    },
    {
      "cell_type": "markdown",
      "source": [
        "\n",
        "\n",
        "2.   Order Cancellation Prediction\n",
        "\n"
      ],
      "metadata": {
        "id": "3zqLr3EEbuXG"
      }
    },
    {
      "cell_type": "code",
      "source": [
        "# Target: order_status == 'canceled'\n",
        "# Features: payment_type, installments, shipping_charges, product_category\n",
        "\n",
        "from sklearn.model_selection import train_test_split\n",
        "from sklearn.preprocessing import OneHotEncoder, StandardScaler\n",
        "from sklearn.compose import ColumnTransformer\n",
        "from sklearn.pipeline import Pipeline\n",
        "from sklearn.metrics import classification_report\n",
        "from xgboost import XGBClassifier\n",
        "print(orders['order_status'].value_counts())   #gives highly imbalanced data => no model can learn pattern for cancellation => safe to leave this\n",
        "\n",
        "# orders['is_canceled'] = (orders['order_status'] == 'canceled').astype(int)\n",
        "\n",
        "\n",
        "# # Merge relevant tables\n",
        "# df = orders.merge(orderItems, on='order_id')\n",
        "# df = df.merge(products, on='product_id')\n",
        "# df = df.merge(customers, on='customer_id')\n",
        "\n",
        "# # Create binary target variable: 1 = canceled, 0 = not canceled\n",
        "# df['is_canceled'] = (df['order_status'] == 'canceled').astype(int)\n",
        "\n",
        "# # Drop missing values if any relevant columns have them\n",
        "# df = df.dropna(subset=['shipping_charges', 'product_weight_g', 'order_status', 'customer_state'])\n",
        "\n",
        "# # Feature and target selection\n",
        "# features = ['product_weight_g', 'shipping_charges', 'customer_state']\n",
        "# target = 'is_canceled'\n",
        "\n",
        "# X = df[features]\n",
        "# y = df[target]\n",
        "\n",
        "# # Class imbalance check\n",
        "# cancel_counts = y.value_counts()\n",
        "# neg = cancel_counts.get(0, 0)\n",
        "# pos = cancel_counts.get(1, 1)  # Use 1 to avoid division by zero\n",
        "\n",
        "# # Prevent divide-by-zero\n",
        "# scale_pos_weight = neg / pos if pos != 0 else 1\n",
        "\n",
        "\n",
        "# # Train-test split\n",
        "# X_train, X_test, y_train, y_test = train_test_split(X, y, test_size=0.2, random_state=42)\n",
        "\n",
        "# # Preprocessing\n",
        "# numeric_features = ['product_weight_g', 'shipping_charges']\n",
        "# categorical_features = ['customer_state']\n",
        "\n",
        "# preprocessor = ColumnTransformer(\n",
        "#     transformers=[\n",
        "#         ('num', StandardScaler(), numeric_features),\n",
        "#         ('cat', OneHotEncoder(handle_unknown='ignore'), categorical_features)\n",
        "#     ]\n",
        "# )\n",
        "\n",
        "# # Model pipeline\n",
        "# pipeline = Pipeline(steps=[\n",
        "#     ('preprocessor', preprocessor),\n",
        "#     ('model', XGBClassifier(scale_pos_weight=scale_pos_weight, use_label_encoder=False, eval_metric='logloss'))\n",
        "# ])\n",
        "\n",
        "# # Train the model\n",
        "# pipeline.fit(X_train, y_train)\n",
        "\n",
        "# # Evaluate\n",
        "# y_pred = pipeline.predict(X_test)\n",
        "# print(classification_report(y_test, y_pred))\n"
      ],
      "metadata": {
        "id": "Ig8BK2UFcEIU",
        "colab": {
          "base_uri": "https://localhost:8080/"
        },
        "outputId": "ca8c2d9d-0945-4cfa-9b96-b748f87de1b0"
      },
      "execution_count": null,
      "outputs": [
        {
          "output_type": "stream",
          "name": "stdout",
          "text": [
            "order_status\n",
            "1    87413\n",
            "0        5\n",
            "Name: count, dtype: int64\n"
          ]
        }
      ]
    },
    {
      "cell_type": "markdown",
      "source": [
        "\n",
        "\n",
        "\n",
        "3.   Inventory Demand Forecasting\n",
        "\n",
        "\n",
        "\n",
        "\n"
      ],
      "metadata": {
        "id": "_n7TW_bUbzO7"
      }
    },
    {
      "cell_type": "code",
      "source": [
        "# Problem: Predict future demand of a product category or SKU.\n",
        "# Aggregate past order quantities by product and time (e.g. weekly)\n",
        "\n",
        "# Merge datasets\n",
        "# Merge orders + orderItems (core)\n",
        "df = orders.merge(orderItems, on='order_id')\n",
        "\n",
        "# Merge with products to get product info\n",
        "df = df.merge(products, on='product_id')\n",
        "\n",
        "# Optional: Merge with customers if you want geo info (state/city)\n",
        "df = df.merge(customers, on='customer_id')\n",
        "\n",
        "# Optional: Merge with payments if payment value matters\n",
        "df = df.merge(payments, on='order_id')\n",
        "\n",
        "\n",
        "# First: convert timestamp to datetime\n",
        "df['order_date'] = pd.to_datetime(df['order_purchase_timestamp'])\n",
        "\n",
        "# Extract time components\n",
        "df['year'] = df['order_date'].dt.year\n",
        "df['month'] = df['order_date'].dt.month\n",
        "\n",
        "# Group by product + month to get total quantity\n",
        "demand_df = df.groupby(['product_id', 'product_category_name', 'year', 'month'])['order_id'].count().reset_index()\n",
        "demand_df.rename(columns={'order_id': 'demand_count'}, inplace=True)\n",
        "\n",
        "demand_df['prev_month_demand'] = demand_df.groupby('product_id')['demand_count'].shift(1)\n",
        "demand_df['rolling_3m_avg'] = demand_df.groupby('product_id')['demand_count'].rolling(3).mean().reset_index(0, drop=True)\n",
        "\n"
      ],
      "metadata": {
        "id": "y7VwrJOacGJC"
      },
      "execution_count": null,
      "outputs": []
    },
    {
      "cell_type": "code",
      "source": [
        "import xgboost as xgb\n",
        "from sklearn.model_selection import train_test_split\n",
        "\n",
        "X = demand_df[['month', 'year', 'prev_month_demand', 'rolling_3m_avg']]\n",
        "y = demand_df['demand_count']\n",
        "\n",
        "# Handle missing lags (e.g., fillna with 0 or median)\n",
        "X.fillna(0, inplace=True)\n",
        "\n",
        "X_train, X_test, y_train, y_test = train_test_split(X, y, test_size=0.2, random_state=42)\n",
        "\n",
        "model = xgb.XGBRegressor()\n",
        "model.fit(X_train, y_train)\n",
        "\n",
        "preds = model.predict(X_test)\n"
      ],
      "metadata": {
        "colab": {
          "base_uri": "https://localhost:8080/"
        },
        "id": "pBP4lsKuF6S4",
        "outputId": "3b096890-515c-4ceb-921a-20f51a325bf3"
      },
      "execution_count": null,
      "outputs": [
        {
          "output_type": "stream",
          "name": "stderr",
          "text": [
            "<ipython-input-15-7ef0405bd0c1>:8: SettingWithCopyWarning: \n",
            "A value is trying to be set on a copy of a slice from a DataFrame\n",
            "\n",
            "See the caveats in the documentation: https://pandas.pydata.org/pandas-docs/stable/user_guide/indexing.html#returning-a-view-versus-a-copy\n",
            "  X.fillna(0, inplace=True)\n"
          ]
        }
      ]
    },
    {
      "cell_type": "code",
      "source": [
        "# Take manual input\n",
        "month = int(input(\"Enter the month (1-12): \"))\n",
        "year = int(input(\"Enter the year (e.g., 2024): \"))\n",
        "prev_month_demand = float(input(\"Enter the previous month's demand count: \"))\n",
        "rolling_3m_avg = float(input(\"Enter the rolling 3-month average demand: \"))\n",
        "\n",
        "# Make a DataFrame for prediction\n",
        "import pandas as pd\n",
        "\n",
        "manual_input = pd.DataFrame({\n",
        "    'month': [month],\n",
        "    'year': [year],\n",
        "    'prev_month_demand': [prev_month_demand],\n",
        "    'rolling_3m_avg': [rolling_3m_avg]\n",
        "})\n",
        "\n",
        "# (optional) Fillna if needed\n",
        "manual_input.fillna(0, inplace=True)\n",
        "\n",
        "# Run prediction\n",
        "pred = model.predict(manual_input)\n",
        "print(f\"📦 Forecasted demand: {pred[0]:.2f} units\")\n"
      ],
      "metadata": {
        "colab": {
          "base_uri": "https://localhost:8080/"
        },
        "id": "k1WRx6wJGIkM",
        "outputId": "ccd437dc-c1b9-4056-bd23-8804c4c93765"
      },
      "execution_count": null,
      "outputs": [
        {
          "output_type": "stream",
          "name": "stdout",
          "text": [
            "Enter the month (1-12): 5\n",
            "Enter the year (e.g., 2024): 2025\n",
            "Enter the previous month's demand count: 45\n",
            "Enter the rolling 3-month average demand: 41\n",
            "📦 Forecasted demand: 32.21 units\n"
          ]
        }
      ]
    },
    {
      "cell_type": "code",
      "source": [
        "# Prepare export DataFrame\n",
        "export_df = demand_df.loc[X_test.index, ['product_id', 'product_category_name', 'year', 'month', 'prev_month_demand', 'rolling_3m_avg']].copy()\n",
        "\n",
        "# Add actual & predicted demand\n",
        "export_df['Actual_Demand'] = y_test\n",
        "export_df['Predicted_Demand'] = preds\n",
        "\n",
        "# Save to CSV\n",
        "export_df.to_csv('inventory_demand_forecast.csv', index=False)\n",
        "\n",
        "print(\"✅ Exported inventory_demand_forecast.csv successfully!\")\n"
      ],
      "metadata": {
        "colab": {
          "base_uri": "https://localhost:8080/"
        },
        "id": "3C6P0x8tD6Cl",
        "outputId": "42a3de6c-c159-45b2-e5c3-08e3b5a4ed28"
      },
      "execution_count": null,
      "outputs": [
        {
          "output_type": "stream",
          "name": "stdout",
          "text": [
            "✅ Exported inventory_demand_forecast.csv successfully!\n"
          ]
        }
      ]
    },
    {
      "cell_type": "code",
      "source": [
        "# If pred is a DataFrame:\n",
        "if hasattr(pred, 'values'):\n",
        "    pred = pred.values\n",
        "\n",
        "# Force it into 1D\n",
        "pred = np.ravel(pred)\n",
        "mae = mean_absolute_error(y_test, pred)\n",
        "rmse = np.sqrt(mean_squared_error(y_test, pred))\n",
        "r2 = r2_score(y_test, pred)\n",
        "\n",
        "print(f\"Mean Absolute Error (MAE): {mae:.2f}\")\n",
        "print(f\"Root Mean Squared Error (RMSE): {rmse:.2f}\")\n",
        "print(f\"R^2 Score: {r2:.2f}\")\n"
      ],
      "metadata": {
        "colab": {
          "base_uri": "https://localhost:8080/",
          "height": 356
        },
        "id": "oq28lpCLGpaY",
        "outputId": "c10d2fad-e2d6-4321-e746-fae10f7b25d9"
      },
      "execution_count": null,
      "outputs": [
        {
          "output_type": "error",
          "ename": "ValueError",
          "evalue": "Found input variables with inconsistent numbers of samples: [9616, 1]",
          "traceback": [
            "\u001b[0;31m---------------------------------------------------------------------------\u001b[0m",
            "\u001b[0;31mValueError\u001b[0m                                Traceback (most recent call last)",
            "\u001b[0;32m<ipython-input-17-635bf0e67048>\u001b[0m in \u001b[0;36m<cell line: 0>\u001b[0;34m()\u001b[0m\n\u001b[1;32m      5\u001b[0m \u001b[0;31m# Force it into 1D\u001b[0m\u001b[0;34m\u001b[0m\u001b[0;34m\u001b[0m\u001b[0m\n\u001b[1;32m      6\u001b[0m \u001b[0mpred\u001b[0m \u001b[0;34m=\u001b[0m \u001b[0mnp\u001b[0m\u001b[0;34m.\u001b[0m\u001b[0mravel\u001b[0m\u001b[0;34m(\u001b[0m\u001b[0mpred\u001b[0m\u001b[0;34m)\u001b[0m\u001b[0;34m\u001b[0m\u001b[0;34m\u001b[0m\u001b[0m\n\u001b[0;32m----> 7\u001b[0;31m \u001b[0mmae\u001b[0m \u001b[0;34m=\u001b[0m \u001b[0mmean_absolute_error\u001b[0m\u001b[0;34m(\u001b[0m\u001b[0my_test\u001b[0m\u001b[0;34m,\u001b[0m \u001b[0mpred\u001b[0m\u001b[0;34m)\u001b[0m\u001b[0;34m\u001b[0m\u001b[0;34m\u001b[0m\u001b[0m\n\u001b[0m\u001b[1;32m      8\u001b[0m \u001b[0mrmse\u001b[0m \u001b[0;34m=\u001b[0m \u001b[0mnp\u001b[0m\u001b[0;34m.\u001b[0m\u001b[0msqrt\u001b[0m\u001b[0;34m(\u001b[0m\u001b[0mmean_squared_error\u001b[0m\u001b[0;34m(\u001b[0m\u001b[0my_test\u001b[0m\u001b[0;34m,\u001b[0m \u001b[0mpred\u001b[0m\u001b[0;34m)\u001b[0m\u001b[0;34m)\u001b[0m\u001b[0;34m\u001b[0m\u001b[0;34m\u001b[0m\u001b[0m\n\u001b[1;32m      9\u001b[0m \u001b[0mr2\u001b[0m \u001b[0;34m=\u001b[0m \u001b[0mr2_score\u001b[0m\u001b[0;34m(\u001b[0m\u001b[0my_test\u001b[0m\u001b[0;34m,\u001b[0m \u001b[0mpred\u001b[0m\u001b[0;34m)\u001b[0m\u001b[0;34m\u001b[0m\u001b[0;34m\u001b[0m\u001b[0m\n",
            "\u001b[0;32m/usr/local/lib/python3.11/dist-packages/sklearn/utils/_param_validation.py\u001b[0m in \u001b[0;36mwrapper\u001b[0;34m(*args, **kwargs)\u001b[0m\n\u001b[1;32m    214\u001b[0m                     )\n\u001b[1;32m    215\u001b[0m                 ):\n\u001b[0;32m--> 216\u001b[0;31m                     \u001b[0;32mreturn\u001b[0m \u001b[0mfunc\u001b[0m\u001b[0;34m(\u001b[0m\u001b[0;34m*\u001b[0m\u001b[0margs\u001b[0m\u001b[0;34m,\u001b[0m \u001b[0;34m**\u001b[0m\u001b[0mkwargs\u001b[0m\u001b[0;34m)\u001b[0m\u001b[0;34m\u001b[0m\u001b[0;34m\u001b[0m\u001b[0m\n\u001b[0m\u001b[1;32m    217\u001b[0m             \u001b[0;32mexcept\u001b[0m \u001b[0mInvalidParameterError\u001b[0m \u001b[0;32mas\u001b[0m \u001b[0me\u001b[0m\u001b[0;34m:\u001b[0m\u001b[0;34m\u001b[0m\u001b[0;34m\u001b[0m\u001b[0m\n\u001b[1;32m    218\u001b[0m                 \u001b[0;31m# When the function is just a wrapper around an estimator, we allow\u001b[0m\u001b[0;34m\u001b[0m\u001b[0;34m\u001b[0m\u001b[0m\n",
            "\u001b[0;32m/usr/local/lib/python3.11/dist-packages/sklearn/metrics/_regression.py\u001b[0m in \u001b[0;36mmean_absolute_error\u001b[0;34m(y_true, y_pred, sample_weight, multioutput)\u001b[0m\n\u001b[1;32m    275\u001b[0m \u001b[0;34m\u001b[0m\u001b[0m\n\u001b[1;32m    276\u001b[0m     _, y_true, y_pred, sample_weight, multioutput = (\n\u001b[0;32m--> 277\u001b[0;31m         _check_reg_targets_with_floating_dtype(\n\u001b[0m\u001b[1;32m    278\u001b[0m             \u001b[0my_true\u001b[0m\u001b[0;34m,\u001b[0m \u001b[0my_pred\u001b[0m\u001b[0;34m,\u001b[0m \u001b[0msample_weight\u001b[0m\u001b[0;34m,\u001b[0m \u001b[0mmultioutput\u001b[0m\u001b[0;34m,\u001b[0m \u001b[0mxp\u001b[0m\u001b[0;34m=\u001b[0m\u001b[0mxp\u001b[0m\u001b[0;34m\u001b[0m\u001b[0;34m\u001b[0m\u001b[0m\n\u001b[1;32m    279\u001b[0m         )\n",
            "\u001b[0;32m/usr/local/lib/python3.11/dist-packages/sklearn/metrics/_regression.py\u001b[0m in \u001b[0;36m_check_reg_targets_with_floating_dtype\u001b[0;34m(y_true, y_pred, sample_weight, multioutput, xp)\u001b[0m\n\u001b[1;32m    196\u001b[0m     \u001b[0mdtype_name\u001b[0m \u001b[0;34m=\u001b[0m \u001b[0m_find_matching_floating_dtype\u001b[0m\u001b[0;34m(\u001b[0m\u001b[0my_true\u001b[0m\u001b[0;34m,\u001b[0m \u001b[0my_pred\u001b[0m\u001b[0;34m,\u001b[0m \u001b[0msample_weight\u001b[0m\u001b[0;34m,\u001b[0m \u001b[0mxp\u001b[0m\u001b[0;34m=\u001b[0m\u001b[0mxp\u001b[0m\u001b[0;34m)\u001b[0m\u001b[0;34m\u001b[0m\u001b[0;34m\u001b[0m\u001b[0m\n\u001b[1;32m    197\u001b[0m \u001b[0;34m\u001b[0m\u001b[0m\n\u001b[0;32m--> 198\u001b[0;31m     y_type, y_true, y_pred, multioutput = _check_reg_targets(\n\u001b[0m\u001b[1;32m    199\u001b[0m         \u001b[0my_true\u001b[0m\u001b[0;34m,\u001b[0m \u001b[0my_pred\u001b[0m\u001b[0;34m,\u001b[0m \u001b[0mmultioutput\u001b[0m\u001b[0;34m,\u001b[0m \u001b[0mdtype\u001b[0m\u001b[0;34m=\u001b[0m\u001b[0mdtype_name\u001b[0m\u001b[0;34m,\u001b[0m \u001b[0mxp\u001b[0m\u001b[0;34m=\u001b[0m\u001b[0mxp\u001b[0m\u001b[0;34m\u001b[0m\u001b[0;34m\u001b[0m\u001b[0m\n\u001b[1;32m    200\u001b[0m     )\n",
            "\u001b[0;32m/usr/local/lib/python3.11/dist-packages/sklearn/metrics/_regression.py\u001b[0m in \u001b[0;36m_check_reg_targets\u001b[0;34m(y_true, y_pred, multioutput, dtype, xp)\u001b[0m\n\u001b[1;32m    102\u001b[0m     \u001b[0mxp\u001b[0m\u001b[0;34m,\u001b[0m \u001b[0m_\u001b[0m \u001b[0;34m=\u001b[0m \u001b[0mget_namespace\u001b[0m\u001b[0;34m(\u001b[0m\u001b[0my_true\u001b[0m\u001b[0;34m,\u001b[0m \u001b[0my_pred\u001b[0m\u001b[0;34m,\u001b[0m \u001b[0mmultioutput\u001b[0m\u001b[0;34m,\u001b[0m \u001b[0mxp\u001b[0m\u001b[0;34m=\u001b[0m\u001b[0mxp\u001b[0m\u001b[0;34m)\u001b[0m\u001b[0;34m\u001b[0m\u001b[0;34m\u001b[0m\u001b[0m\n\u001b[1;32m    103\u001b[0m \u001b[0;34m\u001b[0m\u001b[0m\n\u001b[0;32m--> 104\u001b[0;31m     \u001b[0mcheck_consistent_length\u001b[0m\u001b[0;34m(\u001b[0m\u001b[0my_true\u001b[0m\u001b[0;34m,\u001b[0m \u001b[0my_pred\u001b[0m\u001b[0;34m)\u001b[0m\u001b[0;34m\u001b[0m\u001b[0;34m\u001b[0m\u001b[0m\n\u001b[0m\u001b[1;32m    105\u001b[0m     \u001b[0my_true\u001b[0m \u001b[0;34m=\u001b[0m \u001b[0mcheck_array\u001b[0m\u001b[0;34m(\u001b[0m\u001b[0my_true\u001b[0m\u001b[0;34m,\u001b[0m \u001b[0mensure_2d\u001b[0m\u001b[0;34m=\u001b[0m\u001b[0;32mFalse\u001b[0m\u001b[0;34m,\u001b[0m \u001b[0mdtype\u001b[0m\u001b[0;34m=\u001b[0m\u001b[0mdtype\u001b[0m\u001b[0;34m)\u001b[0m\u001b[0;34m\u001b[0m\u001b[0;34m\u001b[0m\u001b[0m\n\u001b[1;32m    106\u001b[0m     \u001b[0my_pred\u001b[0m \u001b[0;34m=\u001b[0m \u001b[0mcheck_array\u001b[0m\u001b[0;34m(\u001b[0m\u001b[0my_pred\u001b[0m\u001b[0;34m,\u001b[0m \u001b[0mensure_2d\u001b[0m\u001b[0;34m=\u001b[0m\u001b[0;32mFalse\u001b[0m\u001b[0;34m,\u001b[0m \u001b[0mdtype\u001b[0m\u001b[0;34m=\u001b[0m\u001b[0mdtype\u001b[0m\u001b[0;34m)\u001b[0m\u001b[0;34m\u001b[0m\u001b[0;34m\u001b[0m\u001b[0m\n",
            "\u001b[0;32m/usr/local/lib/python3.11/dist-packages/sklearn/utils/validation.py\u001b[0m in \u001b[0;36mcheck_consistent_length\u001b[0;34m(*arrays)\u001b[0m\n\u001b[1;32m    473\u001b[0m     \u001b[0muniques\u001b[0m \u001b[0;34m=\u001b[0m \u001b[0mnp\u001b[0m\u001b[0;34m.\u001b[0m\u001b[0munique\u001b[0m\u001b[0;34m(\u001b[0m\u001b[0mlengths\u001b[0m\u001b[0;34m)\u001b[0m\u001b[0;34m\u001b[0m\u001b[0;34m\u001b[0m\u001b[0m\n\u001b[1;32m    474\u001b[0m     \u001b[0;32mif\u001b[0m \u001b[0mlen\u001b[0m\u001b[0;34m(\u001b[0m\u001b[0muniques\u001b[0m\u001b[0;34m)\u001b[0m \u001b[0;34m>\u001b[0m \u001b[0;36m1\u001b[0m\u001b[0;34m:\u001b[0m\u001b[0;34m\u001b[0m\u001b[0;34m\u001b[0m\u001b[0m\n\u001b[0;32m--> 475\u001b[0;31m         raise ValueError(\n\u001b[0m\u001b[1;32m    476\u001b[0m             \u001b[0;34m\"Found input variables with inconsistent numbers of samples: %r\"\u001b[0m\u001b[0;34m\u001b[0m\u001b[0;34m\u001b[0m\u001b[0m\n\u001b[1;32m    477\u001b[0m             \u001b[0;34m%\u001b[0m \u001b[0;34m[\u001b[0m\u001b[0mint\u001b[0m\u001b[0;34m(\u001b[0m\u001b[0ml\u001b[0m\u001b[0;34m)\u001b[0m \u001b[0;32mfor\u001b[0m \u001b[0ml\u001b[0m \u001b[0;32min\u001b[0m \u001b[0mlengths\u001b[0m\u001b[0;34m]\u001b[0m\u001b[0;34m\u001b[0m\u001b[0;34m\u001b[0m\u001b[0m\n",
            "\u001b[0;31mValueError\u001b[0m: Found input variables with inconsistent numbers of samples: [9616, 1]"
          ]
        }
      ]
    },
    {
      "cell_type": "markdown",
      "source": [
        "4. Customer Segmentation"
      ],
      "metadata": {
        "id": "qgBYNzLyb7pY"
      }
    },
    {
      "cell_type": "code",
      "source": [
        "# Group customers by purchase behavior.\n",
        "# Features: Total spend, frequency, recency, product diversity\n",
        "\n",
        "# Merge customers with orders\n",
        "customer_orders = pd.merge(orders, customers, on='customer_id', how='left')\n",
        "\n",
        "# Merge with payments\n",
        "customer_data = pd.merge(customer_orders, payments, on='order_id', how='left')\n",
        "\n",
        "# Convert dates\n",
        "customer_data['order_purchase_timestamp'] = pd.to_datetime(customer_data['order_purchase_timestamp'])\n",
        "\n",
        "# Convert payment_value to numeric (important!)\n",
        "customer_data['payment_value'] = pd.to_numeric(customer_data['payment_value'], errors='coerce')\n",
        "\n",
        "# Set snapshot date (latest date in data + 1)\n",
        "snapshot_date = customer_data['order_purchase_timestamp'].max() + pd.Timedelta(days=1)\n",
        "\n",
        "# Group by customer\n",
        "rfm = customer_data.groupby('customer_id').agg({\n",
        "    'order_purchase_timestamp': lambda x: (snapshot_date - x.max()).days,   # Recency\n",
        "    'order_id': 'count',                                                    # Frequency\n",
        "    'payment_value': 'sum'                                                  # Monetary\n",
        "}).reset_index()\n",
        "\n",
        "rfm.rename(columns={\n",
        "    'order_purchase_timestamp': 'Recency',\n",
        "    'order_id': 'Frequency',\n",
        "    'payment_value': 'Monetary'\n",
        "}, inplace=True)\n",
        "\n",
        "print(rfm.head())\n"
      ],
      "metadata": {
        "id": "C6xvEZ2dcHQI",
        "colab": {
          "base_uri": "https://localhost:8080/"
        },
        "outputId": "34b4c322-fbe7-4b8d-ba09-19e2f14ffdb7"
      },
      "execution_count": null,
      "outputs": [
        {
          "output_type": "stream",
          "name": "stdout",
          "text": [
            "    customer_id  Recency  Frequency  Monetary\n",
            "0  000hN1Tzi4iN      303          1    334.34\n",
            "1  001T2XiQONtX      287          1    232.89\n",
            "2  005aQnkeGglh      693          1    280.09\n",
            "3  0075TryJTCaQ      146          1    262.30\n",
            "4  00D6vdR3ymjv      523          1    151.98\n"
          ]
        }
      ]
    },
    {
      "cell_type": "code",
      "source": [
        "from sklearn.preprocessing import StandardScaler\n",
        "from sklearn.cluster import KMeans\n",
        "\n",
        "# Standardize\n",
        "scaler = StandardScaler()\n",
        "rfm_scaled = scaler.fit_transform(rfm[['Recency', 'Frequency', 'Monetary']])\n",
        "\n",
        "# KMeans\n",
        "kmeans = KMeans(n_clusters=4, random_state=42)\n",
        "rfm['Cluster'] = kmeans.fit_predict(rfm_scaled)\n",
        "\n",
        "# Group by Cluster and show mean of numeric columns\n",
        "print(rfm.groupby('Cluster').mean(numeric_only=True))\n"
      ],
      "metadata": {
        "colab": {
          "base_uri": "https://localhost:8080/"
        },
        "id": "erW60bPnWrV8",
        "outputId": "38e3b2e8-ab74-445c-ac4f-1d4b9b4f2fb5"
      },
      "execution_count": null,
      "outputs": [
        {
          "output_type": "stream",
          "name": "stdout",
          "text": [
            "            Recency  Frequency     Monetary\n",
            "Cluster                                    \n",
            "0        461.356331        1.0   216.610208\n",
            "1         90.816249        1.0   210.657423\n",
            "2        234.536813        1.0  1425.079537\n",
            "3        260.779452        1.0   198.910914\n"
          ]
        }
      ]
    },
    {
      "cell_type": "code",
      "source": [
        "import matplotlib.pyplot as plt\n",
        "\n",
        "plt.scatter(rfm['Recency'], rfm['Monetary'], c=rfm['Cluster'], cmap='viridis')\n",
        "plt.xlabel('Recency')\n",
        "plt.ylabel('Monetary')\n",
        "plt.title('RFM Clusters')\n",
        "plt.show()\n"
      ],
      "metadata": {
        "id": "tWE76pRnZeD7",
        "outputId": "afa2ce64-d967-4827-c912-308c11102774",
        "colab": {
          "base_uri": "https://localhost:8080/",
          "height": 472
        }
      },
      "execution_count": null,
      "outputs": [
        {
          "output_type": "display_data",
          "data": {
            "text/plain": [
              "<Figure size 640x480 with 1 Axes>"
            ],
            "image/png": "[encoded data removed]"
          },
          "metadata": {}
        }
      ]
    },
    {
      "cell_type": "code",
      "source": [
        "# Optional: Add cluster labels as a new column\n",
        "output_df = rfm.copy()\n",
        "\n",
        "# Save to CSV\n",
        "output_df.to_csv('customer_segmentation.csv', index=False)\n",
        "\n",
        "print(\"✅ Exported customer_segmentation.csv successfully!\")\n"
      ],
      "metadata": {
        "colab": {
          "base_uri": "https://localhost:8080/"
        },
        "id": "VgDQi0nNEFgd",
        "outputId": "a96bcf85-de6f-4eed-b19e-e0fa7a205ed2"
      },
      "execution_count": null,
      "outputs": [
        {
          "output_type": "stream",
          "name": "stdout",
          "text": [
            "✅ Exported customer_segmentation.csv successfully!\n"
          ]
        }
      ]
    }
  ]
}